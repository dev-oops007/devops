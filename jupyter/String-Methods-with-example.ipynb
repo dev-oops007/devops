{
 "cells": [
  {
   "cell_type": "markdown",
   "id": "00ee2ce8-7ecd-4318-8996-44005fcf4411",
   "metadata": {},
   "source": [
    "Certainly! Python provides a lots of built-in **string methods** that allow you to manipulate and work with strings. \n",
    "Let's explore some of the most commonly used ones:\n",
    "\n",
    "1. **`capitalize()`:** Converts the first character of a string to uppercase.\n",
    "2. **`casefold()`:** Converts the entire string to lowercase, similar to `lower()`, but more aggressive in handling special characters.\n",
    "3. **`center(width, fillchar)`:** Returns a centered string by padding it with `fillchar` (default is space) to the specified `width`.\n",
    "4. **`count(substring, start, end)`:** Returns the number of occurrences of `substring` within the string.\n",
    "5. **`encode(encoding, errors)`:** Returns an encoded version of the string using the specified `encoding`.\n",
    "6. **`endswith(suffix, start, end)`:** Checks if the string ends with the specified `suffix`.\n",
    "7. **`find`:** Searches for `substring` and returns its position (or -1 if not found).\n",
    "8. **`isalnum()`:** Returns `True` if all characters in the string are alphanumeric.\n",
    "9. **`isalpha()`:** Returns `True` if all characters in the string are alphabetic.\n",
    "10. **`isdigit()`:** Returns `True` if all characters in the string are digits.r\n",
    "11. **`islower()`:** Returns `True` if all characters in the string are lowercase.\n",
    "12. **`isspace()`:** Returns `True` if all characters in the string are whitespace.\n",
    "13. **`istitle()`:** Returns `True` if the string follows title case rules.\n",
    "14. **`isupper()`:** Returns `True` if all characters in the string are uppercase.\n",
    "15. **`join(iterable)`:** Concatenates elements of an iterable (e.g., a list) into a single string using the string as a separator.\n",
    "16. **`lower()`:** Converts the entire string to lowercase.\n",
    "17. **`replace(old, new, count)`:** Replaces occurrences of `old` with `new` (optional `count` limits replacements).\n",
    "18. **`split(separator, maxsplit)`:** Splits the string into a list of substrings using the specified `separator`.\n",
    "19. **`startswith(prefix, start, end)`:** Checks if the string starts with the specified `prefix`.\n",
    "20. **`strip(chars)`:** Removes leading and trailing characters specified in `chars` (default is whitespace).\n",
    "21. **`upper()`:** Converts the entire string to uppercase.\n",
    "\n",
    "Remember that these methods return new values and do not modify the original string.\n",
    "Source:\n",
    "(1) Python String Methods - W3Schools. https://www.w3schools.com/python/python_ref_string.asp.\n",
    "(3) Python String Methods - GeeksforGeeks. https://www.geeksforgeeks.org/python-string-methods/."
   ]
  },
  {
   "cell_type": "code",
   "execution_count": 1,
   "id": "ecb3163f-91ae-441f-ba03-7b82dddf3bf9",
   "metadata": {},
   "outputs": [
    {
     "name": "stdout",
     "output_type": "stream",
     "text": [
      "string capitalize()  The boring stuff means to be automate\n",
      "string casefold()  the boring stuff means to be automate\n",
      "upper THE BORING STUFF MEANS TO BE AUTOMATE\n",
      "lower the boring stuff means to be automate\n",
      "center ******the boriNg sTufF meaNs to Be auToMate*******\n",
      "count for substring T in txt is  2\n",
      "count for substring means in txt is  0\n",
      "count (value, start,end) 1\n"
     ]
    }
   ],
   "source": [
    "txt = 'the boriNg sTufF meaNs to Be auToMate'\n",
    "#Returns the first character capitalized and the rest lowercased.\n",
    "print ('string capitalize() ',txt.capitalize())\n",
    "#Returns the entire strings to lowercase \n",
    "print ('string casefold() ',txt.casefold())\n",
    "#Converts the entire string to uppercase.\n",
    "print ('upper', txt.upper())\n",
    "# Converts the entire string to lowercase.\n",
    "print ('lower', txt.lower())\n",
    "# center(width, 'fillchar'): Returns a centered string of length width. default is space\n",
    "print ('center', txt.center(50,'*'))\n",
    "#Returns the number of occurrences of `substring` within the string\n",
    "print ('count for substring T in txt is ', txt.count('T'))\n",
    "print ('count for substring means in txt is ', txt.count('means'))\n",
    "\n",
    "txtC = \"I love apples, apple are my favorite fruit\"\n",
    "print('count (value, start,end)',txtC.count(\"apple\", 10, 24))"
   ]
  },
  {
   "cell_type": "code",
   "execution_count": 2,
   "id": "67dd5d7a-9908-44e8-a6e5-c92f42da5f35",
   "metadata": {},
   "outputs": [
    {
     "name": "stdout",
     "output_type": "stream",
     "text": [
      "find e in txt  2\n",
      "find e in txt between 5 to 25 and position is  18\n",
      "find so in txt -1\n"
     ]
    }
   ],
   "source": [
    "# finds the first occurrence of the specified value. check 'substring` and returns its position (or -1 if not found).\n",
    "print ('find e in txt ', txt.find('e'))\n",
    "print ('find e in txt between 5 to 25 and position is ', txt.find('e',5,25))\n",
    "#f the value is not found, the find() method returns -1, but the index() method will raise an exception:\n",
    "print('find so in txt', txt.find(\"so\"))"
   ]
  },
  {
   "cell_type": "code",
   "execution_count": 3,
   "id": "516c4209-917f-41b5-830e-bb43072c4f22",
   "metadata": {},
   "outputs": [
    {
     "name": "stdout",
     "output_type": "stream",
     "text": [
      "b'My name is St\\\\xe5le'\n",
      "b'My name is Stle'\n",
      "b'My name is St\\\\N{LATIN SMALL LETTER A WITH RING ABOVE}le'\n",
      "b'My name is St?le'\n",
      "b'My name is St&#229;le'\n"
     ]
    }
   ],
   "source": [
    "txtEcode = \"My name is Ståle\"\n",
    "\n",
    "print(txtEcode.encode(encoding=\"ascii\",errors=\"backslashreplace\"))\n",
    "print(txtEcode.encode(encoding=\"ascii\",errors=\"ignore\"))\n",
    "print(txtEcode.encode(encoding=\"ascii\",errors=\"namereplace\"))\n",
    "print(txtEcode.encode(encoding=\"ascii\",errors=\"replace\"))\n",
    "print(txtEcode.encode(encoding=\"ascii\",errors=\"xmlcharrefreplace\"))"
   ]
  },
  {
   "cell_type": "markdown",
   "id": "24bd1c36-3e6e-45c8-acf3-d61c065a1419",
   "metadata": {},
   "source": [
    "isalnum()\tReturns True if all characters in the string are alphanumeric\n",
    "isalpha()\tReturns True if all characters in the string are in the alphabet\n",
    "isascii()\tReturns True if all characters in the string are ascii characters\n",
    "isdecimal()\tReturns True if all characters in the string are decimals\n",
    "isdigit()\tReturns True if all characters in the string are digits\n",
    "isidentifier()\tReturns True if the string is an identifier\n",
    "islower()\tReturns True if all characters in the string are lower case\n",
    "isnumeric()\tReturns True if all characters in the string are numeric\n",
    "isprintable()\tReturns True if all characters in the string are printable\n",
    "isspace()\tReturns True if all characters in the string are whitespaces\n",
    "istitle()\tReturns True if the string follows the rules of a title\n",
    "isupper() Returns `True` if all characters in the string are uppercase."
   ]
  }
 ],
 "metadata": {
  "kernelspec": {
   "display_name": "Python 3 (ipykernel)",
   "language": "python",
   "name": "python3"
  },
  "language_info": {
   "codemirror_mode": {
    "name": "ipython",
    "version": 3
   },
   "file_extension": ".py",
   "mimetype": "text/x-python",
   "name": "python",
   "nbconvert_exporter": "python",
   "pygments_lexer": "ipython3",
   "version": "3.12.3"
  }
 },
 "nbformat": 4,
 "nbformat_minor": 5
}
