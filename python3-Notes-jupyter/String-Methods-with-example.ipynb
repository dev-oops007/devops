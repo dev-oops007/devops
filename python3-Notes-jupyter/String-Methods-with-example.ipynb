{
 "cells": [
  {
   "cell_type": "markdown",
   "id": "00ee2ce8-7ecd-4318-8996-44005fcf4411",
   "metadata": {},
   "source": [
    "\n",
    "1. **`capitalize()`:** Converts the first character of a string to uppercase.\n",
    "2. **`casefold()`:** Converts the entire string to lowercase, similar to `lower()`, but more aggressive in handling special characters.\n",
    "4. **`count(substring, start, end)`:** Returns the number of occurrences of `substring` within the string.\n",
    "6. **`endswith(suffix, start, end)`:** Checks if the string ends with the specified `suffix`.\n",
    "7. **`find`:** Searches for `substring` and returns its position (or -1 if not found).\n",
    "15. **`join(iterable)`:** Concatenates elements of an iterable (e.g., a list) into a single string using the string as a separator.\n",
    "16. **`lower()`:** Converts the entire string to lowercase.\n",
    "17. **`replace(old, new, count)`:** Replaces occurrences of `old` with `new` (optional `count` limits replacements).\n",
    "18. **`split(separator, maxsplit)`:** Splits the string into a list of substrings using the specified `separator`.\n",
    "19. **`startswith(prefix, start, end)`:** Checks if the string starts with the specified `prefix`.\n",
    "\n",
    "\n",
    "\n",
    "Remember that these methods return new values and do not modify the original string.\n",
    "Source:\n",
    "(1) Python String Methods - W3Schools. https://www.w3schools.com/python/python_ref_string.asp.\n",
    "(3) Python String Methods - GeeksforGeeks. https://www.geeksforgeeks.org/python-string-methods/."
   ]
  },
  {
   "cell_type": "code",
   "execution_count": 46,
   "id": "ecb3163f-91ae-441f-ba03-7b82dddf3bf9",
   "metadata": {
    "scrolled": true
   },
   "outputs": [
    {
     "name": "stdout",
     "output_type": "stream",
     "text": [
      "string capitalize()  The boring stuff means to be automate\n",
      "string casefold()  the boring stuff means to be automate\n",
      "upper() THE BORING STUFF MEANS TO BE AUTOMATE\n",
      "lower() the boring stuff means to be automate\n",
      "center ******the boriNg sTufF meaNs to Be auToMate*******\n",
      "swapcase for txt  THE BORInG StUFf MEAnS TO bE AUtOmATE\n",
      "count for substring T in txt is  2\n",
      "count for substring means in txt is  0\n",
      "count (value, start,end) 1\n",
      "split for txt ['the', 'boriNg', 'sTufF', 'meaNs', 'to', 'Be', 'auToMate']\n",
      "strip works yolo like this\n"
     ]
    }
   ],
   "source": [
    "txt = 'the boriNg sTufF meaNs to Be auToMate'\n",
    "#Returns the first character capitalized and the rest lowercased.\n",
    "print ('string capitalize() ',txt.capitalize())\n",
    "\n",
    "#Returns the entire strings to lowercase \n",
    "print ('string casefold() ',txt.casefold())\n",
    "\n",
    "#Converts the entire string to uppercase.\n",
    "print ('upper()', txt.upper())\n",
    "\n",
    "# Converts the entire string to lowercase.\n",
    "print ('lower()', txt.lower())\n",
    "\n",
    "# center(width, 'fillchar'): Returns a centered string of length width. default is space\n",
    "print ('center', txt.center(50,'*'))\n",
    "\n",
    "#swapcase() returns a string where all the upper case letters are lower case and vice versa.\n",
    "\n",
    "print('swapcase for txt ', txt.swapcase())\n",
    "\n",
    "#Returns the number of occurrences of `substring` within the string\n",
    "print ('count for substring T in txt is ', txt.count('T'))\n",
    "print ('count for substring means in txt is ', txt.count('means'))\n",
    "\n",
    "txtC = \"I love apples, apple are my favorite fruit\"\n",
    "print('count (value, start,end)',txtC.count(\"apple\", 10, 24))\n",
    "\n",
    "#split() method splits a string into a list.\n",
    "print('split for txt', txt.split())\n",
    "\n",
    "# `strip(chars)` Removes leading and trailing characters specified in `chars` (default is whitespace).\n",
    "# Leading means at the beginning of the string, trailing means at the end.\n",
    "txtStrip = '  yolo  '\n",
    "lstrip = txtStrip.strip()\n",
    "print('strip works',lstrip,'like this')\n"
   ]
  },
  {
   "cell_type": "code",
   "execution_count": 43,
   "id": "67dd5d7a-9908-44e8-a6e5-c92f42da5f35",
   "metadata": {
    "scrolled": true
   },
   "outputs": [
    {
     "name": "stdout",
     "output_type": "stream",
     "text": [
      "find e in txt  2\n",
      "find e in txt between 5 to 25 and position is  18\n",
      "find so in txt -1\n",
      "endswith in txtC for fruit True\n",
      "endswith(fruit,5,10) in txtC False\n",
      "startswith in txtC for I True\n",
      "startswith(p,5,10) in txtC False\n",
      "replace(apples, kiwi) I love kiwis, kiwi are my favorite fruit\n"
     ]
    }
   ],
   "source": [
    "# finds the first occurrence of the specified value. check 'substring` and returns its position (or -1 if not found).\n",
    "print ('find e in txt ', txt.find('e'))\n",
    "print ('find e in txt between 5 to 25 and position is ', txt.find('e',5,25))\n",
    "#f the value is not found, the find() method returns -1, but the index() method will raise an exception:\n",
    "print('find so in txt', txt.find(\"so\"))\n",
    "\n",
    "print('endswith in txtC for fruit', txtC.endswith('fruit'))\n",
    "print('endswith(fruit,5,10) in txtC', txtC.endswith('fruit',5,20))\n",
    "print('startswith in txtC for I', txtC.startswith('I'))\n",
    "print('startswith(p,5,10) in txtC', txtC.startswith('p',5,10))\n",
    "\n",
    "#replace() method replaces a specified phrase with another specified phrase.\n",
    "#All occurrences of the specified phrase will be replaced\n",
    "print('replace(apples, kiwi)', txtC.replace('apple','kiwi'))"
   ]
  },
  {
   "cell_type": "code",
   "execution_count": 3,
   "id": "516c4209-917f-41b5-830e-bb43072c4f22",
   "metadata": {
    "scrolled": true
   },
   "outputs": [
    {
     "name": "stdout",
     "output_type": "stream",
     "text": [
      "b'My name is St\\\\xe5le'\n",
      "b'My name is Stle'\n",
      "b'My name is St\\\\N{LATIN SMALL LETTER A WITH RING ABOVE}le'\n",
      "b'My name is St?le'\n",
      "b'My name is St&#229;le'\n"
     ]
    }
   ],
   "source": [
    "txtEcode = \"My name is Ståle\"\n",
    "\n",
    "print(txtEcode.encode(encoding=\"ascii\",errors=\"backslashreplace\"))\n",
    "print(txtEcode.encode(encoding=\"ascii\",errors=\"ignore\"))\n",
    "print(txtEcode.encode(encoding=\"ascii\",errors=\"namereplace\"))\n",
    "print(txtEcode.encode(encoding=\"ascii\",errors=\"replace\"))\n",
    "print(txtEcode.encode(encoding=\"ascii\",errors=\"xmlcharrefreplace\"))"
   ]
  },
  {
   "cell_type": "markdown",
   "id": "24bd1c36-3e6e-45c8-acf3-d61c065a1419",
   "metadata": {},
   "source": [
    "isprintable()\tReturns True if all characters in the string are printable\n",
    "istitle()\tReturns True if the string follows the rules of a title\n",
    "all words in a text start with a upper case letter, AND the rest of the word are lower case letters\n"
   ]
  },
  {
   "cell_type": "code",
   "execution_count": 31,
   "id": "7625704e-3507-4880-aa6d-dff756d7154a",
   "metadata": {},
   "outputs": [
    {
     "name": "stdout",
     "output_type": "stream",
     "text": [
      "isalnum() Alphanumeric123 True\n",
      "isalnum() Alph@numer!c123 False\n",
      "isalpha() Alphanumeric123 False\n",
      "isidentifier() for txt1 True\n",
      "isidentifier() for txt2 False\n",
      "isascii() Alphanumeric123 True\n",
      "isascii() Alph@numer! 123 True\n"
     ]
    }
   ],
   "source": [
    "passwd = 'This is f0r the test 0f 10 $tring'\n",
    "txt1 = 'Alphanumeric123'\n",
    "txt2 = 'Alph@numer! 123'\n",
    "\n",
    "# isalnum()\tReturns True if all characters in the string are alphanumeric\n",
    "print ('isalnum() Alphanumeric123', txt1.isalnum())\n",
    "print ('isalnum() Alph@numer!c123', txt2.isalnum())\n",
    "\n",
    "#isalpha(): Returns True if all characters in the string are alphabetic.\n",
    "print ('isalpha() Alphanumeric123', txt1.isalpha())\n",
    "\n",
    "#A string is considered a valid identifier if it only contains alphanumeric letters (a-z) and (0-9), or underscores (_). \n",
    "#A valid identifier cannot start with a number, or contain any spaces.\n",
    "print('isidentifier() for txt1', txt1.isidentifier())\n",
    "print('isidentifier() for txt2', txt2.isidentifier())\n",
    "\n",
    "# isascii()\tReturns True if all characters in the string are ascii characters\n",
    "print ('isascii() Alphanumeric123', txt1.isascii())\n",
    "print ('isascii() Alph@numer! 123', txt2.isascii())\n"
   ]
  },
  {
   "cell_type": "code",
   "execution_count": 40,
   "id": "368a35c1-4b4d-4189-a354-8d1443127378",
   "metadata": {},
   "outputs": [
    {
     "name": "stdout",
     "output_type": "stream",
     "text": [
      "isupper for UPP True\n",
      "islower for low True\n",
      "isspace for Upp False\n",
      "isspace for space True\n"
     ]
    }
   ],
   "source": [
    "#isupper() Returns `True` if all characters in the string are uppercase.\n",
    "Upp = 'UPPER'\n",
    "# islower()\tReturns True if all characters in the string are lower case\n",
    "low = 'low'\n",
    "space = ' ' \n",
    "print('isupper for UPP', Upp.isupper())\n",
    "print('islower for low', low.islower())\n",
    "\n",
    "#isspace()\tReturns True if all characters in the string are whitespaces\n",
    "print('isspace for Upp', Upp.isspace())\n",
    "print('isspace for space', space.isspace())"
   ]
  },
  {
   "cell_type": "code",
   "execution_count": 33,
   "id": "0656a7d6-4b49-4cd6-be16-7a82339ba864",
   "metadata": {},
   "outputs": [
    {
     "name": "stdout",
     "output_type": "stream",
     "text": [
      "isdecimal() 76890 True\n",
      "2*5 False\n",
      "isdigit() 76890 True\n",
      "2*5 False\n",
      "isnumeric() 76890 True\n",
      "2*5 False\n",
      "True for circled numbers\n",
      "True for Roman Numbers\n"
     ]
    }
   ],
   "source": [
    "num1 = '76890'\n",
    "num2 = '2*5'\n",
    "\n",
    "# isdecimals()\tReturns True if all characters in the string are decimals\n",
    "print ('isdecimal() 76890', num1.isdecimal())\n",
    "print ('2*5', num2.isdecimal())\n",
    "\n",
    "# isdigit()\tReturns True if all characters in the string are digits\n",
    "print ('isdigit() 76890', num1.isdigit())\n",
    "print ('2*5', num2.isdigit())\n",
    "\n",
    "## isnumeric()\tReturns True if all characters in the string are numeric\n",
    "print ('isnumeric() 76890', num1.isnumeric())\n",
    "print ('2*5', num2.isnumeric())\n",
    "\n",
    "s1 = \"ⅯⅮⅭⅬⅩⅨⅧⅦⅥⅤⅣⅢⅡⅠ\"  # Roman numerals\n",
    "s2 = \"㉑㉒㉓㉔㉕\"  # Circled numbers\n",
    "\n",
    "print(s2.isnumeric(), 'for circled numbers')\n",
    "print(s1.isnumeric(), 'for Roman Numbers')\n"
   ]
  },
  {
   "cell_type": "code",
   "execution_count": null,
   "id": "0b83f815-fe95-4e2b-aa4c-0df208c1bc00",
   "metadata": {},
   "outputs": [],
   "source": []
  }
 ],
 "metadata": {
  "kernelspec": {
   "display_name": "Python 3 (ipykernel)",
   "language": "python",
   "name": "python3"
  },
  "language_info": {
   "codemirror_mode": {
    "name": "ipython",
    "version": 3
   },
   "file_extension": ".py",
   "mimetype": "text/x-python",
   "name": "python",
   "nbconvert_exporter": "python",
   "pygments_lexer": "ipython3",
   "version": "3.12.3"
  }
 },
 "nbformat": 4,
 "nbformat_minor": 5
}
