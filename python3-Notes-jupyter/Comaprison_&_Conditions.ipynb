{
 "cells": [
  {
   "cell_type": "markdown",
   "id": "7cc093e5-47e3-4264-968b-77afd3f85ebb",
   "metadata": {},
   "source": [
    "#Comparison Operators or Conditions in python\n",
    "\n",
    "Equals: a == b\n",
    "Not Equals: a != b\n",
    "Less than: a < b\n",
    "Less than or equal to: a <= b\n",
    "Greater than: a > b\n",
    "Greater than or equal to: a >= b\n"
   ]
  },
  {
   "cell_type": "code",
   "execution_count": 1,
   "id": "24979939-4bf3-424b-bd42-c51b3f4923aa",
   "metadata": {},
   "outputs": [
    {
     "name": "stdout",
     "output_type": "stream",
     "text": [
      "True\n",
      "False\n",
      "False\n"
     ]
    }
   ],
   "source": [
    "print(10 > 9)\n",
    "print(10 == 9)\n",
    "print(10 < 9)\n"
   ]
  },
  {
   "cell_type": "raw",
   "id": "e99b316e-33b4-4d0b-9aae-10be62a5b14d",
   "metadata": {},
   "source": [
    "#And Operator aka Binary Boolean \n",
    "# And operators evaluates an expression to True if both Boolean Values are TRue\n",
    "# Otherwise it evaluates to False \n",
    "print(True and True) => True\n",
    "print(True and False) => false\n",
    "print(False and False) => false\n",
    "print(False and True) => false\n"
   ]
  },
  {
   "cell_type": "raw",
   "id": "30b97886-5cb7-42af-b198-ba76df429994",
   "metadata": {},
   "source": [
    "OR operator evaluates to True if any single Boolean value is True , \n",
    "otherwise it evaluates false if both are false\n"
   ]
  },
  {
   "cell_type": "code",
   "execution_count": 6,
   "id": "a90b9454-aee7-4942-a2d6-83f897ce2160",
   "metadata": {},
   "outputs": [
    {
     "name": "stdout",
     "output_type": "stream",
     "text": [
      "True\n",
      "True\n",
      "False\n",
      "True\n"
     ]
    }
   ],
   "source": [
    "print(True or True) \n",
    "print(True or False) \n",
    "print(False or False)\n",
    "print(False or True) "
   ]
  },
  {
   "cell_type": "code",
   "execution_count": null,
   "id": "ef37ea8d-d0f6-4c58-b075-bd011ff1caef",
   "metadata": {},
   "outputs": [],
   "source": []
  }
 ],
 "metadata": {
  "kernelspec": {
   "display_name": "Python 3 (ipykernel)",
   "language": "python",
   "name": "python3"
  },
  "language_info": {
   "codemirror_mode": {
    "name": "ipython",
    "version": 3
   },
   "file_extension": ".py",
   "mimetype": "text/x-python",
   "name": "python",
   "nbconvert_exporter": "python",
   "pygments_lexer": "ipython3",
   "version": "3.12.3"
  }
 },
 "nbformat": 4,
 "nbformat_minor": 5
}
