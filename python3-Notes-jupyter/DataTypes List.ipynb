{
 "cells": [
  {
   "cell_type": "code",
   "execution_count": 1,
   "id": "d4df526d-9356-411b-9edb-a378d9cb47a5",
   "metadata": {},
   "outputs": [
    {
     "name": "stderr",
     "output_type": "stream",
     "text": [
      "Python(22180) MallocStackLogging: can't turn off malloc stack logging because it was not enabled.\n"
     ]
    },
    {
     "name": "stdout",
     "output_type": "stream",
     "text": [
      "Collecting git-filter-repo\n",
      "  Downloading git_filter_repo-2.45.0-py3-none-any.whl.metadata (30 kB)\n",
      "Downloading git_filter_repo-2.45.0-py3-none-any.whl (64 kB)\n",
      "Installing collected packages: git-filter-repo\n",
      "Successfully installed git-filter-repo-2.45.0\n",
      "Note: you may need to restart the kernel to use updated packages.\n"
     ]
    }
   ],
   "source": [
    "pip install git-filter-repo\n"
   ]
  },
  {
   "cell_type": "code",
   "execution_count": null,
   "id": "26c14ba1-6be9-465a-8fc4-54a4b45a94e9",
   "metadata": {},
   "outputs": [],
   "source": []
  }
 ],
 "metadata": {
  "kernelspec": {
   "display_name": "Python 3 (ipykernel)",
   "language": "python",
   "name": "python3"
  },
  "language_info": {
   "codemirror_mode": {
    "name": "ipython",
    "version": 3
   },
   "file_extension": ".py",
   "mimetype": "text/x-python",
   "name": "python",
   "nbconvert_exporter": "python",
   "pygments_lexer": "ipython3",
   "version": "3.12.3"
  }
 },
 "nbformat": 4,
 "nbformat_minor": 5
}
