{
 "cells": [
  {
   "cell_type": "code",
   "execution_count": 1,
   "id": "1b131420-7cf9-450f-9fa7-906e52ad104f",
   "metadata": {},
   "outputs": [
    {
     "name": "stdout",
     "output_type": "stream",
     "text": [
      "hello 0\n"
     ]
    }
   ],
   "source": [
    "spam = 0 \n",
    "if spam<5:\n",
    "    print (f'hello {spam}')\n",
    "    spam + 1"
   ]
  },
  {
   "cell_type": "code",
   "execution_count": 8,
   "id": "e9c93baf-93d0-4068-b16f-5433718479d4",
   "metadata": {},
   "outputs": [
    {
     "name": "stdout",
     "output_type": "stream",
     "text": [
      "hello 0\n",
      "hello 1\n",
      "hello 2\n",
      "hello 3\n",
      "hello 4\n"
     ]
    }
   ],
   "source": [
    "spam = 0\n",
    "while spam<5:\n",
    "    print(f'hello {spam}')\n",
    "    spam = spam + 1"
   ]
  },
  {
   "cell_type": "code",
   "execution_count": 14,
   "id": "6c49820d-a8e9-4fd2-87ed-f82dd8201d88",
   "metadata": {},
   "outputs": [
    {
     "name": "stdout",
     "output_type": "stream",
     "text": [
      "hello 1\n",
      "hello 2\n"
     ]
    }
   ],
   "source": [
    "spam = 0\n",
    "while spam<6:\n",
    "    \n",
    "    spam += 1\n",
    "    if spam == 3:\n",
    "        break\n",
    "    print (f'hello {spam}')    \n",
    "     \n",
    "# With the break statement we can stop the loop even if the while condition is true"
   ]
  },
  {
   "cell_type": "code",
   "execution_count": 15,
   "id": "b431d7ce-9937-4a61-bb1a-e934a219e223",
   "metadata": {},
   "outputs": [
    {
     "name": "stdout",
     "output_type": "stream",
     "text": [
      "hello 1\n",
      "hello 2\n",
      "hello 4\n",
      "hello 5\n",
      "hello 6\n"
     ]
    }
   ],
   "source": [
    "spam = 0\n",
    "while spam<6:\n",
    "\n",
    "    spam += 1\n",
    "    if spam == 3:\n",
    "        continue \n",
    "    print (f'hello {spam}')\n",
    "# With the continue statement we can stop the current iteration, and continue with the next"
   ]
  },
  {
   "cell_type": "markdown",
   "id": "cb80352f-4a82-4df6-8721-21a8ac09a5ec",
   "metadata": {},
   "source": [
    "NOte : Number 3 is Missing "
   ]
  },
  {
   "cell_type": "raw",
   "id": "57741877-b621-452a-bf49-494723429f4e",
   "metadata": {},
   "source": [
    "FOR Loop on list"
   ]
  },
  {
   "cell_type": "code",
   "execution_count": 16,
   "id": "a3ac27df-7830-4348-9685-22bcfc3b2e9c",
   "metadata": {},
   "outputs": [
    {
     "name": "stdout",
     "output_type": "stream",
     "text": [
      "apple\n",
      "banana\n",
      "cherry\n"
     ]
    }
   ],
   "source": [
    "fruits = [\"apple\", \"banana\", \"cherry\"]\n",
    "for x in fruits:\n",
    "  print(x)"
   ]
  },
  {
   "cell_type": "code",
   "execution_count": 17,
   "id": "cddf5999-3bf2-417c-9586-49094c4f5229",
   "metadata": {},
   "outputs": [
    {
     "name": "stdout",
     "output_type": "stream",
     "text": [
      "b\n",
      "a\n",
      "n\n",
      "a\n",
      "n\n",
      "a\n"
     ]
    }
   ],
   "source": [
    "for x in 'banana':\n",
    "    print(x)"
   ]
  },
  {
   "cell_type": "code",
   "execution_count": 18,
   "id": "56df7929-5cf4-419a-a46a-a252726866e2",
   "metadata": {
    "scrolled": true
   },
   "outputs": [
    {
     "name": "stdout",
     "output_type": "stream",
     "text": [
      "apple\n",
      "banana\n"
     ]
    }
   ],
   "source": [
    "fruits = [\"apple\", \"banana\", \"cherry\"]\n",
    "for x in fruits:\n",
    "  print(x)\n",
    "  if x == \"banana\":\n",
    "    break"
   ]
  },
  {
   "cell_type": "code",
   "execution_count": 19,
   "id": "61b957cc-01ba-4174-93dc-71f2bdaa3099",
   "metadata": {
    "scrolled": true
   },
   "outputs": [
    {
     "name": "stdout",
     "output_type": "stream",
     "text": [
      "apple\n"
     ]
    }
   ],
   "source": [
    "fruits = [\"apple\", \"banana\", \"cherry\"]\n",
    "for x in fruits:\n",
    "  if x == \"banana\":\n",
    "    break\n",
    "  print(x)"
   ]
  },
  {
   "cell_type": "code",
   "execution_count": 20,
   "id": "50a507cb-ba73-44b7-b379-6c1faea6cbad",
   "metadata": {
    "scrolled": true
   },
   "outputs": [
    {
     "name": "stdout",
     "output_type": "stream",
     "text": [
      "apple\n",
      "cherry\n"
     ]
    }
   ],
   "source": [
    "fruits = [\"apple\", \"banana\", \"cherry\"]\n",
    "for x in fruits:\n",
    "  if x == \"banana\":\n",
    "    continue\n",
    "  print(x)"
   ]
  },
  {
   "cell_type": "code",
   "execution_count": null,
   "id": "00facddc-96ae-4aeb-81f9-7a9c32d0bf61",
   "metadata": {},
   "outputs": [],
   "source": [
    "name = ''\n",
    "while name != 'your name':\n",
    "    print('please enter your name')\n",
    "    name= input()    "
   ]
  },
  {
   "cell_type": "raw",
   "id": "6873c5b4-0fa7-44e3-917c-bf0055cd650d",
   "metadata": {},
   "source": [
    "To loop through a set of code a specified number of times, we can use the range() function,\n",
    "The range() function returns a sequence of numbers, starting from 0 by default, and increments by 1 (by default), \n",
    "and ends at a specified number."
   ]
  },
  {
   "cell_type": "code",
   "execution_count": 21,
   "id": "5cf25502-94fc-4947-8fb5-6b6144bede76",
   "metadata": {},
   "outputs": [
    {
     "name": "stdout",
     "output_type": "stream",
     "text": [
      "0\n",
      "1\n",
      "2\n",
      "3\n",
      "4\n",
      "5\n"
     ]
    }
   ],
   "source": [
    "for x in range(6):\n",
    "    print (x)"
   ]
  },
  {
   "cell_type": "code",
   "execution_count": 23,
   "id": "f67a6d41-87f2-48c1-9df4-73a06bb860ab",
   "metadata": {},
   "outputs": [
    {
     "name": "stdout",
     "output_type": "stream",
     "text": [
      "2\n",
      "3\n",
      "4\n",
      "5\n"
     ]
    }
   ],
   "source": [
    "for x in range(2,6):\n",
    "    print(x)"
   ]
  },
  {
   "cell_type": "code",
   "execution_count": null,
   "id": "b4776e7f-8c02-4ef7-a4b6-1c37b6a5a850",
   "metadata": {},
   "outputs": [],
   "source": []
  }
 ],
 "metadata": {
  "kernelspec": {
   "display_name": "Python 3 (ipykernel)",
   "language": "python",
   "name": "python3"
  },
  "language_info": {
   "codemirror_mode": {
    "name": "ipython",
    "version": 3
   },
   "file_extension": ".py",
   "mimetype": "text/x-python",
   "name": "python",
   "nbconvert_exporter": "python",
   "pygments_lexer": "ipython3",
   "version": "3.13.0"
  }
 },
 "nbformat": 4,
 "nbformat_minor": 5
}
