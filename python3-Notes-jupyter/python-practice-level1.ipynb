{
 "cells": [
  {
   "cell_type": "code",
   "execution_count": 7,
   "id": "ca0201a5-d8db-4318-8ac0-199a78d4a1a5",
   "metadata": {},
   "outputs": [
    {
     "name": "stdout",
     "output_type": "stream",
     "text": [
      "RamHello\n"
     ]
    }
   ],
   "source": [
    "#string concatination \n",
    "a = 'Ram'\n",
    "b = 'Hello'\n",
    "p = 5\n",
    "q = 6\n",
    "conCat = a+b\n",
    "print (conCat)\n"
   ]
  },
  {
   "cell_type": "code",
   "execution_count": 8,
   "id": "81a7d12f-75c1-438a-84d8-e6dd64df357f",
   "metadata": {},
   "outputs": [
    {
     "ename": "TypeError",
     "evalue": "can only concatenate str (not \"int\") to str",
     "output_type": "error",
     "traceback": [
      "\u001b[0;31m---------------------------------------------------------------------------\u001b[0m",
      "\u001b[0;31mTypeError\u001b[0m                                 Traceback (most recent call last)",
      "Cell \u001b[0;32mIn[8], line 2\u001b[0m\n\u001b[1;32m      1\u001b[0m \u001b[38;5;66;03m# No string concat\u001b[39;00m\n\u001b[0;32m----> 2\u001b[0m noConcat \u001b[38;5;241m=\u001b[39m \u001b[43ma\u001b[49m\u001b[43m \u001b[49m\u001b[38;5;241;43m+\u001b[39;49m\u001b[43m \u001b[49m\u001b[43mp\u001b[49m\n",
      "\u001b[0;31mTypeError\u001b[0m: can only concatenate str (not \"int\") to str"
     ]
    }
   ],
   "source": [
    "# No string concat\n",
    "noConcat = a + p"
   ]
  },
  {
   "cell_type": "code",
   "execution_count": 9,
   "id": "75d6c5b2-8279-4af7-9e23-ae56e99b85a2",
   "metadata": {},
   "outputs": [
    {
     "name": "stdout",
     "output_type": "stream",
     "text": [
      "RamRamRamRamRam\n"
     ]
    },
    {
     "ename": "TypeError",
     "evalue": "can't multiply sequence by non-int of type 'str'",
     "output_type": "error",
     "traceback": [
      "\u001b[0;31m---------------------------------------------------------------------------\u001b[0m",
      "\u001b[0;31mTypeError\u001b[0m                                 Traceback (most recent call last)",
      "Cell \u001b[0;32mIn[9], line 4\u001b[0m\n\u001b[1;32m      2\u001b[0m repli\u001b[38;5;241m=\u001b[39m a \u001b[38;5;241m*\u001b[39m p\n\u001b[1;32m      3\u001b[0m \u001b[38;5;28mprint\u001b[39m (repli)\n\u001b[0;32m----> 4\u001b[0m noRepli \u001b[38;5;241m=\u001b[39m \u001b[43ma\u001b[49m\u001b[43m \u001b[49m\u001b[38;5;241;43m*\u001b[39;49m\u001b[43m \u001b[49m\u001b[43mb\u001b[49m\n",
      "\u001b[0;31mTypeError\u001b[0m: can't multiply sequence by non-int of type 'str'"
     ]
    }
   ],
   "source": [
    "# String Replication \n",
    "repli= a * p\n",
    "print (repli)\n",
    "noRepli = a * b"
   ]
  },
  {
   "cell_type": "code",
   "execution_count": 32,
   "id": "f1d3d418-24ff-494d-ab5a-d2e1265ed47c",
   "metadata": {},
   "outputs": [
    {
     "name": "stdout",
     "output_type": "stream",
     "text": [
      "Helo, What is your name?\n"
     ]
    },
    {
     "name": "stdin",
     "output_type": "stream",
     "text": [
      " Devvrat \n"
     ]
    },
    {
     "name": "stdout",
     "output_type": "stream",
     "text": [
      "Nice to meet you Devvrat \n",
      "your name length is :  8\n",
      "What is your age ? \n"
     ]
    },
    {
     "name": "stdin",
     "output_type": "stream",
     "text": [
      " 29\n"
     ]
    },
    {
     "name": "stdout",
     "output_type": "stream",
     "text": [
      "your age will be 30 next year.\n"
     ]
    }
   ],
   "source": [
    "print ('Helo, What is your name?')\n",
    "name = input()\n",
    "print ('Nice to meet you '+ name)\n",
    "print('your name length is : ', len(name))\n",
    "print('What is your age ? ')\n",
    "age = int(input()) + 1\n",
    "print('your age will be '+ str(age) +' next year.')\n"
   ]
  },
  {
   "cell_type": "code",
   "execution_count": 3,
   "id": "9a0b9753-dcd8-42fa-83fe-9eb9742e50a6",
   "metadata": {
    "scrolled": true
   },
   "outputs": [
    {
     "name": "stdout",
     "output_type": "stream",
     "text": [
      "Hello\n",
      "e\n",
      "W\n",
      "a\n",
      "l\n",
      "l\n",
      "a\n",
      "h\n"
     ]
    }
   ],
   "source": [
    "# strings in Python are arrays of bytes representing unicode characters.\n",
    "# Python does not have a character data type, a single character is simply a string with a length of 1.\n",
    "#string indexing \n",
    "b = 'Hello' \n",
    "print (b)\n",
    "print (b[1])\n",
    "\n",
    "#looping in strings\n",
    "for x in 'Wallah':\n",
    "    print (x)\n",
    "    "
   ]
  },
  {
   "cell_type": "code",
   "execution_count": 5,
   "id": "0bbe688b-6bfe-458d-96c8-017bb523f0a3",
   "metadata": {
    "scrolled": true
   },
   "outputs": [
    {
     "name": "stdout",
     "output_type": "stream",
     "text": [
      "True\n",
      "yes it means a lot\n"
     ]
    }
   ],
   "source": [
    "#To check if a certain phrase or character is present in a string, we can use the keyword \"in\"\n",
    "text = 'the boring stuff means to be automate'\n",
    "print ('means' in text)\n",
    "\n",
    "# second condition\n",
    "if 'means' in text:\n",
    "    print('yes it means a lot')\n"
   ]
  },
  {
   "cell_type": "code",
   "execution_count": 6,
   "id": "88140c5e-be6a-47d6-97cb-aea73f0341cc",
   "metadata": {
    "scrolled": true
   },
   "outputs": [
    {
     "name": "stdout",
     "output_type": "stream",
     "text": [
      "True\n",
      "its not there\n"
     ]
    }
   ],
   "source": [
    "#To check if a certain phrase or character is NOT present in a string, we can use the keyword \"not in\"\n",
    "print ('yolo' not in text)\n",
    "\n",
    "if 'yolo' not in text:\n",
    "    print('its not there')"
   ]
  },
  {
   "cell_type": "markdown",
   "id": "4ef1a9c1-5dd4-4041-abed-711658c3afb5",
   "metadata": {},
   "source": [
    "Using the List/array slicing  [ :: ]  method in Python 3\n",
    "It means Indexing starts with 0 in string.\n",
    "so indexing of Hello -> [01234]   in string indexing. it is positive index \n",
    "negative index will be -1-2-3-4-5  -> olleh   . It will be used in reverse indexing . \n",
    "\n",
    "Syntax ---->>>> \n",
    "\n",
    "arr[start:stop]         # items start through stop-1\n",
    "ex : subS = conCat[0:3]  the index start from 0 indexes and ending with a 2 index(stops at 3-1=2 ).\n",
    "\n",
    "arr[start:]             # items start through the rest of the array\n",
    "arr[:stop]              # items from the beginning through stop-1\n",
    "arr[:]                  # a copy of the whole array\n",
    "arr[start:stop:step]    # start through not past stop, by step"
   ]
  },
  {
   "cell_type": "code",
   "execution_count": 10,
   "id": "c4688b3d-631d-4bad-871a-f7c7240d0ed2",
   "metadata": {
    "scrolled": true
   },
   "outputs": [
    {
     "name": "stdout",
     "output_type": "stream",
     "text": [
      "RamHello\n",
      "conCat[0:3]\n",
      "Ram\n",
      "conCat[2:]\n",
      "mHello\n",
      "conCat[:4]\n",
      "RamH\n",
      "conCat[:]\n",
      "RamHello\n",
      "conCat[0:3:1] using the step , it is 1 by default when we do not specify like above\n",
      "Ram\n",
      "RamHel,0,6,1\n",
      "Rme,0,6,2  2nd index will be skipping\n"
     ]
    }
   ],
   "source": [
    "print (conCat) # RamHello  Positive index tracker [01234567] & for reverse Negative index tracker [-8-7-6-5-4-3-2-1]\n",
    "#subS = conCat[0:3] # Extract the first 3 characters \n",
    "print ('conCat[0:3]', conCat[0:3])\n",
    "print (conCat[0:3]) #  items start through & stop -1 So it will print from 0 to 2 [012]\n",
    "\n",
    "print('conCat[2:]', conCat[2:])\n",
    "print(conCat[2:]) # items start through the rest of the array arr[start:]\n",
    "print ('conCat[:4]', conCat[:4])\n",
    "print (conCat[:4]) # items from the beginning through stop-1\n",
    "\n",
    "print ('conCat[:]', conCat[:])\n",
    "print (conCat[:]) #it will print the whole array\n",
    "print ('conCat[0:3:1]', conCat[0:3:1]) #using the step , it is 1 by default when we do not specify like above\n",
    "print (conCat[0:3:1])\n",
    "\n",
    "print (conCat[0:6:1]+ ',0,6,1')\n",
    "print (conCat[0:6:2]+',0,6,2  2nd index will be skipping') # "
   ]
  },
  {
   "cell_type": "code",
   "execution_count": 26,
   "id": "b8ece503-68b3-4074-a1f3-370ed8713d6b",
   "metadata": {
    "scrolled": true
   },
   "outputs": [
    {
     "name": "stdout",
     "output_type": "stream",
     "text": [
      "RamHello\n",
      "reverse string olleHmaR\n",
      "reverse string \n"
     ]
    }
   ],
   "source": [
    "print (conCat)\n",
    "print('reverse string',conCat[::-1]) # start is 0 , stop will be end charachter if array,  Step is reverse\n",
    "# by default pointer will start from end of the \n"
   ]
  },
  {
   "cell_type": "code",
   "execution_count": 27,
   "id": "05043cfc-940a-45e2-a09b-e38beb5d8d35",
   "metadata": {
    "scrolled": true
   },
   "outputs": [
    {
     "name": "stdout",
     "output_type": "stream",
     "text": [
      "reverse string olleH\n",
      "reverse string with step -2 olH\n",
      "reverse string with step -2 \n"
     ]
    }
   ],
   "source": [
    "print('reverse string',conCat[-1:-6:-1])\n",
    "print('reverse string with step -2',conCat[-1:-6:-2])\n",
    "print('reverse string with step -2',conCat[-1:-6:1])"
   ]
  },
  {
   "cell_type": "markdown",
   "id": "8646f84e-f8b6-4b55-a671-9589460ff7fd",
   "metadata": {},
   "source": [
    "F-Strings\n",
    "Formatting-String was introduced in Python 3.6"
   ]
  },
  {
   "cell_type": "code",
   "execution_count": 4,
   "id": "bdb063c1-b135-4204-9411-0b4f66d26e7b",
   "metadata": {
    "scrolled": true
   },
   "outputs": [
    {
     "name": "stdout",
     "output_type": "stream",
     "text": [
      "My name is John, I am 36\n",
      "{age1} it is also known as placeHolder\n"
     ]
    }
   ],
   "source": [
    "#f-string \n",
    "age1 = 36\n",
    "text1 = f\"My name is John, I am {age1}\"\n",
    "print(text1)\n",
    "print('{age1} it is also known as placeHolder')"
   ]
  },
  {
   "cell_type": "markdown",
   "id": "898584de-888b-47f4-950c-dfbf3b9b2662",
   "metadata": {},
   "source": [
    "Placeholders and Modifiers\n",
    "A modifier is included by adding a colon : followed by a legal formatting type,\n",
    "like .2f which means fixed point number with 2 decimals:"
   ]
  },
  {
   "cell_type": "code",
   "execution_count": 5,
   "id": "2147242d-d342-4519-b859-c8c68fdb9ed5",
   "metadata": {
    "scrolled": true
   },
   "outputs": [
    {
     "name": "stdout",
     "output_type": "stream",
     "text": [
      "The price is 59.00 dollars\n"
     ]
    }
   ],
   "source": [
    "price = 59\n",
    "text2 = f\"The price is {price:.2f} dollars\"\n",
    "print(text2)"
   ]
  },
  {
   "cell_type": "code",
   "execution_count": 27,
   "id": "6a4d1e28-2f62-422c-af21-1de3341e4717",
   "metadata": {
    "scrolled": true
   },
   "outputs": [
    {
     "name": "stdout",
     "output_type": "stream",
     "text": [
      "The price is 1180 dollars\n",
      "Helo, What is your name?\n"
     ]
    },
    {
     "name": "stdin",
     "output_type": "stream",
     "text": [
      " Devvrat\n"
     ]
    },
    {
     "name": "stdout",
     "output_type": "stream",
     "text": [
      "Nice to meet you Devvrat\n",
      "your name length is :  7\n",
      "What is your age ? \n"
     ]
    },
    {
     "name": "stdin",
     "output_type": "stream",
     "text": [
      " 29\n"
     ]
    },
    {
     "name": "stdout",
     "output_type": "stream",
     "text": [
      "your age will be 30 next year.\n",
      "your age will be 30 next year.\n"
     ]
    }
   ],
   "source": [
    "# placeholder can contain python code as well, like math \n",
    "print(f\"The price is {20 * 59} dollars\")\n",
    "\n",
    "# first program\n",
    "print ('Helo, What is your name?')\n",
    "name = input()\n",
    "print ('Nice to meet you '+ name)\n",
    "print('your name length is : ', len(name))\n",
    "print('What is your age ? ')\n",
    "age = int(input()) + 1\n",
    "print('your age will be '+ str(age) +' next year.')\n",
    "#F string place holder\n",
    "print (f'your age will be {age} next year.')"
   ]
  },
  {
   "cell_type": "code",
   "execution_count": 36,
   "id": "d90e62d0-c58f-4087-aeef-756b167df890",
   "metadata": {
    "scrolled": true
   },
   "outputs": [
    {
     "name": "stdout",
     "output_type": "stream",
     "text": [
      "My name is John, I'm 36\n"
     ]
    }
   ],
   "source": [
    "txt2 = \"My name is {0}, I'm {1}\".format(\"John\",36)\n",
    "print(txt2)"
   ]
  },
  {
   "cell_type": "code",
   "execution_count": null,
   "id": "56e263cf-fcbc-49d5-88b4-cce3301f63b2",
   "metadata": {},
   "outputs": [],
   "source": []
  }
 ],
 "metadata": {
  "kernelspec": {
   "display_name": "Python 3 (ipykernel)",
   "language": "python",
   "name": "python3"
  },
  "language_info": {
   "codemirror_mode": {
    "name": "ipython",
    "version": 3
   },
   "file_extension": ".py",
   "mimetype": "text/x-python",
   "name": "python",
   "nbconvert_exporter": "python",
   "pygments_lexer": "ipython3",
   "version": "3.13.0"
  }
 },
 "nbformat": 4,
 "nbformat_minor": 5
}
