{
 "cells": [
  {
   "cell_type": "markdown",
   "id": "7cc093e5-47e3-4264-968b-77afd3f85ebb",
   "metadata": {},
   "source": [
    "#Comparison Operators or Conditions in python\n",
    "\n",
    "Equals: a == b\n",
    "Not Equals: a != b\n",
    "Less than: a < b\n",
    "Less than or equal to: a <= b\n",
    "Greater than: a > b\n",
    "Greater than or equal to: a >= b\n"
   ]
  },
  {
   "cell_type": "code",
   "execution_count": 1,
   "id": "24979939-4bf3-424b-bd42-c51b3f4923aa",
   "metadata": {
    "scrolled": true
   },
   "outputs": [
    {
     "name": "stdout",
     "output_type": "stream",
     "text": [
      "True\n",
      "False\n",
      "False\n"
     ]
    }
   ],
   "source": [
    "print(10 > 9)\n",
    "print(10 == 9)\n",
    "print(10 < 9)\n"
   ]
  },
  {
   "cell_type": "raw",
   "id": "e99b316e-33b4-4d0b-9aae-10be62a5b14d",
   "metadata": {},
   "source": [
    "#And Operator aka Binary Boolean \n",
    "# And operators evaluates an expression to True if both Boolean Values are TRue\n",
    "# Otherwise it evaluates to False \n",
    "print(True and True) => True\n",
    "print(True and False) => false\n",
    "print(False and False) => false\n",
    "print(False and True) => false\n"
   ]
  },
  {
   "cell_type": "raw",
   "id": "30b97886-5cb7-42af-b198-ba76df429994",
   "metadata": {},
   "source": [
    "OR operator evaluates to True if any single Boolean value is True , \n",
    "otherwise it evaluates false if both are false\n"
   ]
  },
  {
   "cell_type": "code",
   "execution_count": 6,
   "id": "a90b9454-aee7-4942-a2d6-83f897ce2160",
   "metadata": {
    "scrolled": true
   },
   "outputs": [
    {
     "name": "stdout",
     "output_type": "stream",
     "text": [
      "True\n",
      "True\n",
      "False\n",
      "True\n"
     ]
    }
   ],
   "source": [
    "print(True or True) \n",
    "print(True or False) \n",
    "print(False or False)\n",
    "print(False or True) "
   ]
  },
  {
   "cell_type": "code",
   "execution_count": 1,
   "id": "ef37ea8d-d0f6-4c58-b075-bd011ff1caef",
   "metadata": {
    "scrolled": true
   },
   "outputs": [
    {
     "data": {
      "text/plain": [
       "False"
      ]
     },
     "execution_count": 1,
     "metadata": {},
     "output_type": "execute_result"
    }
   ],
   "source": [
    "# Not true & Not False\n",
    "not True\n"
   ]
  },
  {
   "cell_type": "code",
   "execution_count": 2,
   "id": "3a4cdb16-a53f-46cf-9f65-4fd978c6cb70",
   "metadata": {
    "scrolled": true
   },
   "outputs": [
    {
     "data": {
      "text/plain": [
       "True"
      ]
     },
     "execution_count": 2,
     "metadata": {},
     "output_type": "execute_result"
    }
   ],
   "source": [
    "not False"
   ]
  },
  {
   "cell_type": "code",
   "execution_count": 5,
   "id": "ed20b217-9ee3-40d8-aec1-3b4ff69f59ad",
   "metadata": {},
   "outputs": [
    {
     "data": {
      "text/plain": [
       "True"
      ]
     },
     "execution_count": 5,
     "metadata": {},
     "output_type": "execute_result"
    }
   ],
   "source": [
    "(4<5) and (35>5)\n"
   ]
  },
  {
   "cell_type": "code",
   "execution_count": 58,
   "id": "bd46c653-199a-4a97-95c3-c6abca407a0c",
   "metadata": {},
   "outputs": [
    {
     "name": "stdout",
     "output_type": "stream",
     "text": [
      "<re.Match object; span=(4, 5), match='@'>\n",
      "False\n",
      "False\n"
     ]
    }
   ],
   "source": [
    "import re\n",
    "passwd = 'yolo@123'\n",
    "print ( re.search(r\"[ !@#$%^&*()_+{}\\[\\]:;<>,.?/~\\\\-]\", passwd)) \n",
    "print (not re.search(r\"[ !@#$%^&*()_+{}\\[\\]:;<>,.?/~\\\\-]\", passwd))  # not false \n",
    "\n",
    "\n",
    "print (passwd == 'yolo12')\n",
    "\n",
    "if passwd == 'yolo12':\n",
    "    print ('not match')\n",
    "elif re.search(r\"[ !@#$%^&*()_+{}\\[\\]:;<>,.?/~\\\\-]\", passwd) == None : # not false > true \n",
    "    print ('yes')"
   ]
  },
  {
   "cell_type": "raw",
   "id": "90b32a48-103e-4ed8-8255-f0437838f83e",
   "metadata": {},
   "source": [
    "name = 'Dev'\n",
    "\n",
    "if name == 'Dev'\n",
    "    print (f'Hello, {name} !' )\n",
    "    print('Enter your passwrod to validate')\n",
    "passwd = input()\n",
    "\n",
    "#Password Policices\n",
    "1. Minimum 8 letter , Max 32 letters\n",
    "2. 1 lowercase should be present\n",
    "3. 1 uppercase should be present \n",
    "4. require atleast one Digit \n",
    "5. Special character should be there e.g. ! @ # $ & .\n",
    "6. avoid common word such as password, admin, name , 12345678, 012345678\n",
    "\n",
    "def has_special_char(s):\n",
    "   output = any(c in string.punctuation for c in s)\n",
    "   if output == True:\n",
    "      print(s, \"has the special characters in it\") "
   ]
  },
  {
   "cell_type": "code",
   "execution_count": 61,
   "id": "f6530e1d-e7e4-4db1-8a3a-f708b6bdcf1c",
   "metadata": {},
   "outputs": [
    {
     "name": "stdout",
     "output_type": "stream",
     "text": [
      "Hello!, Whats your Name ?\n"
     ]
    },
    {
     "name": "stdin",
     "output_type": "stream",
     "text": [
      " Dev\n"
     ]
    },
    {
     "name": "stdout",
     "output_type": "stream",
     "text": [
      "Hi Dev, Please enter a password to check its validation\n"
     ]
    },
    {
     "name": "stdin",
     "output_type": "stream",
     "text": [
      " mko0MKO)\n"
     ]
    },
    {
     "name": "stdout",
     "output_type": "stream",
     "text": [
      "Congratulations Dev, Your password is valid\n"
     ]
    }
   ],
   "source": [
    "import re #using Regex\n",
    "print('Hello!, Whats your Name ?')\n",
    "name = input()\n",
    "print (f'Hi {name}, Please enter a password to check its validation')\n",
    "passwd = input()\n",
    "plen = len(passwd)\n",
    "if plen < 8 or plen > 32:\n",
    "    print ('your password is invalid')\n",
    "elif passwd.isupper():    \n",
    "    print ('Password is invalid')\n",
    "elif passwd.islower():\n",
    "    print('password is invalid')\n",
    "elif passwd.isalnum():\n",
    "    print('your password is invallid')\n",
    "elif passwd.isdigit():\n",
    "    print('your password is invalid')\n",
    "elif re.search(r\"[ !@#$%^&*()_+{}\\[\\]:;<>,.?/~\\\\-]\", passwd) == None :\n",
    "    print ('your password is invalid')\n",
    "else : \n",
    " print(f'Congratulations {name}, Your password is valid')"
   ]
  },
  {
   "cell_type": "code",
   "execution_count": null,
   "id": "e578fabf-a1db-4f34-b433-7b36eabe5b66",
   "metadata": {},
   "outputs": [],
   "source": []
  }
 ],
 "metadata": {
  "kernelspec": {
   "display_name": "Python 3 (ipykernel)",
   "language": "python",
   "name": "python3"
  },
  "language_info": {
   "codemirror_mode": {
    "name": "ipython",
    "version": 3
   },
   "file_extension": ".py",
   "mimetype": "text/x-python",
   "name": "python",
   "nbconvert_exporter": "python",
   "pygments_lexer": "ipython3",
   "version": "3.12.3"
  }
 },
 "nbformat": 4,
 "nbformat_minor": 5
}
